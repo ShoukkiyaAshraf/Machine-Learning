{
 "cells": [
  {
   "cell_type": "code",
   "execution_count": 57,
   "metadata": {
    "scrolled": true
   },
   "outputs": [],
   "source": [
    "import pandas as pd\n",
    "import numpy as np\n",
    "from sklearn.linear_model import LogisticRegression\n",
    "import matplotlib.pyplot as plt"
   ]
  },
  {
   "cell_type": "code",
   "execution_count": 58,
   "metadata": {},
   "outputs": [
    {
     "name": "stdout",
     "output_type": "stream",
     "text": [
      "       PassengerId    Survived      Pclass         Age       SibSp  \\\n",
      "count   891.000000  891.000000  891.000000  714.000000  891.000000   \n",
      "mean    446.000000    0.383838    2.308642   29.699118    0.523008   \n",
      "std     257.353842    0.486592    0.836071   14.526497    1.102743   \n",
      "min       1.000000    0.000000    1.000000    0.420000    0.000000   \n",
      "25%     223.500000    0.000000    2.000000   20.125000    0.000000   \n",
      "50%     446.000000    0.000000    3.000000   28.000000    0.000000   \n",
      "75%     668.500000    1.000000    3.000000   38.000000    1.000000   \n",
      "max     891.000000    1.000000    3.000000   80.000000    8.000000   \n",
      "\n",
      "            Parch        Fare  \n",
      "count  891.000000  891.000000  \n",
      "mean     0.381594   32.204208  \n",
      "std      0.806057   49.693429  \n",
      "min      0.000000    0.000000  \n",
      "25%      0.000000    7.910400  \n",
      "50%      0.000000   14.454200  \n",
      "75%      0.000000   31.000000  \n",
      "max      6.000000  512.329200  \n"
     ]
    }
   ],
   "source": [
    "data=pd.read_csv('train.csv')\n",
    "print(data.describe())\n"
   ]
  },
  {
   "cell_type": "code",
   "execution_count": 59,
   "metadata": {},
   "outputs": [
    {
     "name": "stdout",
     "output_type": "stream",
     "text": [
      "12\n",
      "891\n",
      "Index(['PassengerId', 'Survived', 'Pclass', 'Name', 'Sex', 'Age', 'SibSp',\n",
      "       'Parch', 'Ticket', 'Fare', 'Cabin', 'Embarked'],\n",
      "      dtype='object')\n",
      "0      0\n",
      "1      1\n",
      "2      1\n",
      "3      1\n",
      "4      0\n",
      "5      0\n",
      "6      0\n",
      "7      0\n",
      "8      1\n",
      "9      1\n",
      "10     1\n",
      "11     1\n",
      "12     0\n",
      "13     0\n",
      "14     0\n",
      "15     1\n",
      "16     0\n",
      "17     1\n",
      "18     0\n",
      "19     1\n",
      "20     0\n",
      "21     1\n",
      "22     1\n",
      "23     1\n",
      "24     0\n",
      "25     1\n",
      "26     0\n",
      "27     0\n",
      "28     1\n",
      "29     0\n",
      "      ..\n",
      "861    0\n",
      "862    1\n",
      "863    0\n",
      "864    0\n",
      "865    1\n",
      "866    1\n",
      "867    0\n",
      "868    0\n",
      "869    1\n",
      "870    0\n",
      "871    1\n",
      "872    0\n",
      "873    0\n",
      "874    1\n",
      "875    1\n",
      "876    0\n",
      "877    0\n",
      "878    0\n",
      "879    1\n",
      "880    1\n",
      "881    0\n",
      "882    0\n",
      "883    0\n",
      "884    0\n",
      "885    0\n",
      "886    0\n",
      "887    1\n",
      "888    0\n",
      "889    1\n",
      "890    0\n",
      "Name: Survived, Length: 891, dtype: int64\n"
     ]
    }
   ],
   "source": [
    "print(len(data.columns))\n",
    "print(len(data.index))\n",
    "print(data.columns)\n",
    "print(data['Survived'])"
   ]
  },
  {
   "cell_type": "code",
   "execution_count": 60,
   "metadata": {},
   "outputs": [
    {
     "name": "stdout",
     "output_type": "stream",
     "text": [
      "     PassengerId  Pclass                                               Name  \\\n",
      "0              1       3                            Braund, Mr. Owen Harris   \n",
      "1              2       1  Cumings, Mrs. John Bradley (Florence Briggs Th...   \n",
      "2              3       3                             Heikkinen, Miss. Laina   \n",
      "3              4       1       Futrelle, Mrs. Jacques Heath (Lily May Peel)   \n",
      "4              5       3                           Allen, Mr. William Henry   \n",
      "5              6       3                                   Moran, Mr. James   \n",
      "6              7       1                            McCarthy, Mr. Timothy J   \n",
      "7              8       3                     Palsson, Master. Gosta Leonard   \n",
      "8              9       3  Johnson, Mrs. Oscar W (Elisabeth Vilhelmina Berg)   \n",
      "9             10       2                Nasser, Mrs. Nicholas (Adele Achem)   \n",
      "10            11       3                    Sandstrom, Miss. Marguerite Rut   \n",
      "11            12       1                           Bonnell, Miss. Elizabeth   \n",
      "12            13       3                     Saundercock, Mr. William Henry   \n",
      "13            14       3                        Andersson, Mr. Anders Johan   \n",
      "14            15       3               Vestrom, Miss. Hulda Amanda Adolfina   \n",
      "15            16       2                   Hewlett, Mrs. (Mary D Kingcome)    \n",
      "16            17       3                               Rice, Master. Eugene   \n",
      "17            18       2                       Williams, Mr. Charles Eugene   \n",
      "18            19       3  Vander Planke, Mrs. Julius (Emelia Maria Vande...   \n",
      "19            20       3                            Masselmani, Mrs. Fatima   \n",
      "20            21       2                               Fynney, Mr. Joseph J   \n",
      "21            22       2                              Beesley, Mr. Lawrence   \n",
      "22            23       3                        McGowan, Miss. Anna \"Annie\"   \n",
      "23            24       1                       Sloper, Mr. William Thompson   \n",
      "24            25       3                      Palsson, Miss. Torborg Danira   \n",
      "25            26       3  Asplund, Mrs. Carl Oscar (Selma Augusta Emilia...   \n",
      "26            27       3                            Emir, Mr. Farred Chehab   \n",
      "27            28       1                     Fortune, Mr. Charles Alexander   \n",
      "28            29       3                      O'Dwyer, Miss. Ellen \"Nellie\"   \n",
      "29            30       3                                Todoroff, Mr. Lalio   \n",
      "..           ...     ...                                                ...   \n",
      "861          862       2                        Giles, Mr. Frederick Edward   \n",
      "862          863       1  Swift, Mrs. Frederick Joel (Margaret Welles Ba...   \n",
      "863          864       3                  Sage, Miss. Dorothy Edith \"Dolly\"   \n",
      "864          865       2                             Gill, Mr. John William   \n",
      "865          866       2                           Bystrom, Mrs. (Karolina)   \n",
      "866          867       2                       Duran y More, Miss. Asuncion   \n",
      "867          868       1               Roebling, Mr. Washington Augustus II   \n",
      "868          869       3                        van Melkebeke, Mr. Philemon   \n",
      "869          870       3                    Johnson, Master. Harold Theodor   \n",
      "870          871       3                                  Balkic, Mr. Cerin   \n",
      "871          872       1   Beckwith, Mrs. Richard Leonard (Sallie Monypeny)   \n",
      "872          873       1                           Carlsson, Mr. Frans Olof   \n",
      "873          874       3                        Vander Cruyssen, Mr. Victor   \n",
      "874          875       2              Abelson, Mrs. Samuel (Hannah Wizosky)   \n",
      "875          876       3                   Najib, Miss. Adele Kiamie \"Jane\"   \n",
      "876          877       3                      Gustafsson, Mr. Alfred Ossian   \n",
      "877          878       3                               Petroff, Mr. Nedelio   \n",
      "878          879       3                                 Laleff, Mr. Kristo   \n",
      "879          880       1      Potter, Mrs. Thomas Jr (Lily Alexenia Wilson)   \n",
      "880          881       2       Shelley, Mrs. William (Imanita Parrish Hall)   \n",
      "881          882       3                                 Markun, Mr. Johann   \n",
      "882          883       3                       Dahlberg, Miss. Gerda Ulrika   \n",
      "883          884       2                      Banfield, Mr. Frederick James   \n",
      "884          885       3                             Sutehall, Mr. Henry Jr   \n",
      "885          886       3               Rice, Mrs. William (Margaret Norton)   \n",
      "886          887       2                              Montvila, Rev. Juozas   \n",
      "887          888       1                       Graham, Miss. Margaret Edith   \n",
      "888          889       3           Johnston, Miss. Catherine Helen \"Carrie\"   \n",
      "889          890       1                              Behr, Mr. Karl Howell   \n",
      "890          891       3                                Dooley, Mr. Patrick   \n",
      "\n",
      "        Sex   Age  SibSp  Parch            Ticket      Fare  \n",
      "0      male  22.0      1      0         A/5 21171    7.2500  \n",
      "1    female  38.0      1      0          PC 17599   71.2833  \n",
      "2    female  26.0      0      0  STON/O2. 3101282    7.9250  \n",
      "3    female  35.0      1      0            113803   53.1000  \n",
      "4      male  35.0      0      0            373450    8.0500  \n",
      "5      male   NaN      0      0            330877    8.4583  \n",
      "6      male  54.0      0      0             17463   51.8625  \n",
      "7      male   2.0      3      1            349909   21.0750  \n",
      "8    female  27.0      0      2            347742   11.1333  \n",
      "9    female  14.0      1      0            237736   30.0708  \n",
      "10   female   4.0      1      1           PP 9549   16.7000  \n",
      "11   female  58.0      0      0            113783   26.5500  \n",
      "12     male  20.0      0      0         A/5. 2151    8.0500  \n",
      "13     male  39.0      1      5            347082   31.2750  \n",
      "14   female  14.0      0      0            350406    7.8542  \n",
      "15   female  55.0      0      0            248706   16.0000  \n",
      "16     male   2.0      4      1            382652   29.1250  \n",
      "17     male   NaN      0      0            244373   13.0000  \n",
      "18   female  31.0      1      0            345763   18.0000  \n",
      "19   female   NaN      0      0              2649    7.2250  \n",
      "20     male  35.0      0      0            239865   26.0000  \n",
      "21     male  34.0      0      0            248698   13.0000  \n",
      "22   female  15.0      0      0            330923    8.0292  \n",
      "23     male  28.0      0      0            113788   35.5000  \n",
      "24   female   8.0      3      1            349909   21.0750  \n",
      "25   female  38.0      1      5            347077   31.3875  \n",
      "26     male   NaN      0      0              2631    7.2250  \n",
      "27     male  19.0      3      2             19950  263.0000  \n",
      "28   female   NaN      0      0            330959    7.8792  \n",
      "29     male   NaN      0      0            349216    7.8958  \n",
      "..      ...   ...    ...    ...               ...       ...  \n",
      "861    male  21.0      1      0             28134   11.5000  \n",
      "862  female  48.0      0      0             17466   25.9292  \n",
      "863  female   NaN      8      2          CA. 2343   69.5500  \n",
      "864    male  24.0      0      0            233866   13.0000  \n",
      "865  female  42.0      0      0            236852   13.0000  \n",
      "866  female  27.0      1      0     SC/PARIS 2149   13.8583  \n",
      "867    male  31.0      0      0          PC 17590   50.4958  \n",
      "868    male   NaN      0      0            345777    9.5000  \n",
      "869    male   4.0      1      1            347742   11.1333  \n",
      "870    male  26.0      0      0            349248    7.8958  \n",
      "871  female  47.0      1      1             11751   52.5542  \n",
      "872    male  33.0      0      0               695    5.0000  \n",
      "873    male  47.0      0      0            345765    9.0000  \n",
      "874  female  28.0      1      0         P/PP 3381   24.0000  \n",
      "875  female  15.0      0      0              2667    7.2250  \n",
      "876    male  20.0      0      0              7534    9.8458  \n",
      "877    male  19.0      0      0            349212    7.8958  \n",
      "878    male   NaN      0      0            349217    7.8958  \n",
      "879  female  56.0      0      1             11767   83.1583  \n",
      "880  female  25.0      0      1            230433   26.0000  \n",
      "881    male  33.0      0      0            349257    7.8958  \n",
      "882  female  22.0      0      0              7552   10.5167  \n",
      "883    male  28.0      0      0  C.A./SOTON 34068   10.5000  \n",
      "884    male  25.0      0      0   SOTON/OQ 392076    7.0500  \n",
      "885  female  39.0      0      5            382652   29.1250  \n",
      "886    male  27.0      0      0            211536   13.0000  \n",
      "887  female  19.0      0      0            112053   30.0000  \n",
      "888  female   NaN      1      2        W./C. 6607   23.4500  \n",
      "889    male  26.0      0      0            111369   30.0000  \n",
      "890    male  32.0      0      0            370376    7.7500  \n",
      "\n",
      "[891 rows x 9 columns]\n"
     ]
    }
   ],
   "source": [
    "x=pd.DataFrame(data,columns=['PassengerId', 'Pclass', 'Name', 'Sex', 'Age', 'SibSp','Parch', 'Ticket', 'Fare'])\n",
    "y=pd.DataFrame(data,columns=['Survived'])\n",
    "print(x)"
   ]
  },
  {
   "cell_type": "code",
   "execution_count": 61,
   "metadata": {},
   "outputs": [
    {
     "data": {
      "image/png": "[encoded data removed]",
      "text/plain": [
       "<Figure size 432x288 with 6 Axes>"
      ]
     },
     "metadata": {
      "needs_background": "light"
     },
     "output_type": "display_data"
    }
   ],
   "source": [
    "x.hist(bins=10,alpha=0.5)\n",
    "plt.show()"
   ]
  },
  {
   "cell_type": "markdown",
   "metadata": {},
   "source": [
    "## preprocessing stage"
   ]
  },
  {
   "cell_type": "code",
   "execution_count": 193,
   "metadata": {},
   "outputs": [],
   "source": [
    "#x['Cabin']"
   ]
  },
  {
   "cell_type": "code",
   "execution_count": 63,
   "metadata": {},
   "outputs": [
    {
     "name": "stdout",
     "output_type": "stream",
     "text": [
      "     PassengerId  Pclass  Name  Sex   Age  SibSp  Parch  Ticket      Fare\n",
      "0              1       3   108    1  22.0      1      0     523    7.2500\n",
      "1              2       1   190    0  38.0      1      0     596   71.2833\n",
      "2              3       3   353    0  26.0      0      0     669    7.9250\n",
      "3              4       1   272    0  35.0      1      0      49   53.1000\n",
      "4              5       3    15    1  35.0      0      0     472    8.0500\n",
      "5              6       3   554    1   NaN      0      0     275    8.4583\n",
      "6              7       1   515    1  54.0      0      0      85   51.8625\n",
      "7              8       3   624    1   2.0      3      1     395   21.0750\n",
      "8              9       3   412    0  27.0      0      2     344   11.1333\n",
      "9             10       2   576    0  14.0      1      0     132   30.0708\n",
      "10            11       3   727    0   4.0      1      1     616   16.7000\n",
      "11            12       1    95    0  58.0      0      0      38   26.5500\n",
      "12            13       3   729    1  20.0      0      0     535    8.0500\n",
      "13            14       3    28    1  39.0      1      5     333   31.2750\n",
      "14            15       3   840    0  14.0      0      0     413    7.8542\n",
      "15            16       2   359    0  55.0      0      0     153   16.0000\n",
      "16            17       3   682    1   2.0      4      1     480   29.1250\n",
      "17            18       2   867    1   NaN      0      0     151   13.0000\n",
      "18            19       3   839    0  31.0      1      0     301   18.0000\n",
      "19            20       3   512    0   NaN      0      0     184    7.2250\n",
      "20            21       2   273    1  35.0      0      0     139   26.0000\n",
      "21            22       2    80    1  34.0      0      0     152   13.0000\n",
      "22            23       3   523    0  15.0      0      0     278    8.0292\n",
      "23            24       1   765    1  28.0      0      0      42   35.5000\n",
      "24            25       3   626    0   8.0      3      1     395   21.0750\n",
      "25            26       3    44    0  38.0      1      5     329   31.3875\n",
      "26            27       3   240    1   NaN      0      0     179    7.2250\n",
      "27            28       1   260    1  19.0      3      2      95  263.0000\n",
      "28            29       3   605    0   NaN      0      0     283    7.8792\n",
      "29            30       3   813    1   NaN      0      0     362    7.8958\n",
      "..           ...     ...   ...  ...   ...    ...    ...     ...       ...\n",
      "861          862       2   283    1  21.0      1      0     221   11.5000\n",
      "862          863       1   797    0  48.0      0      0      88   25.9292\n",
      "863          864       3   718    0   NaN      8      2     568   69.5500\n",
      "864          865       2   285    1  24.0      0      0     120   13.0000\n",
      "865          866       2   122    0  42.0      0      0     126   13.0000\n",
      "866          867       2   230    0  27.0      1      0     632   13.8583\n",
      "867          868       1   696    1  31.0      0      0     590   50.4958\n",
      "868          869       3   890    1   NaN      0      0     309    9.5000\n",
      "869          870       3   407    1   4.0      1      1     344   11.1333\n",
      "870          871       3    59    1  26.0      0      0     387    7.8958\n",
      "871          872       1    79    0  47.0      1      1      54   52.5542\n",
      "872          873       1   139    1  33.0      0      0     502    5.0000\n",
      "873          874       3   836    1  47.0      0      0     303    9.0000\n",
      "874          875       2     4    0  28.0      1      0     575   24.0000\n",
      "875          876       3   571    0  15.0      0      0     195    7.2250\n",
      "876          877       3   311    1  20.0      0      0     504    9.8458\n",
      "877          878       3   657    1  19.0      0      0     358    7.8958\n",
      "878          879       3   451    1   NaN      0      0     363    7.8958\n",
      "879          880       1   668    0  56.0      0      1      59   83.1583\n",
      "880          881       2   739    0  25.0      0      1     115   26.0000\n",
      "881          882       3   510    1  33.0      0      0     394    7.8958\n",
      "882          883       3   193    0  22.0      0      0     508   10.5167\n",
      "883          884       2    61    1  28.0      0      0     565   10.5000\n",
      "884          885       3   793    1  25.0      0      0     650    7.0500\n",
      "885          886       3   684    0  39.0      0      5     480   29.1250\n",
      "886          887       2   548    1  27.0      0      0     101   13.0000\n",
      "887          888       1   303    0  19.0      0      0      14   30.0000\n",
      "888          889       3   413    0   NaN      1      2     675   23.4500\n",
      "889          890       1    81    1  26.0      0      0       8   30.0000\n",
      "890          891       3   220    1  32.0      0      0     466    7.7500\n",
      "\n",
      "[891 rows x 9 columns]\n"
     ]
    }
   ],
   "source": [
    "from sklearn import preprocessing\n",
    "encode=preprocessing.LabelEncoder()\n",
    "encode.fit(x['Name'])\n",
    "x['Name']=encode.transform(x['Name'])\n",
    "encode.fit(x['Sex'])\n",
    "x['Sex']=encode.transform(x['Sex'])\n",
    "encode.fit(x['Ticket'])\n",
    "x['Ticket']=encode.transform(x['Ticket'])\n",
    "print(x)\n",
    "#encode.fit(x['Cabin'])\n",
    "#x['Cabin']=encode.transform(x['Cabin'])\n"
   ]
  },
  {
   "cell_type": "code",
   "execution_count": 64,
   "metadata": {},
   "outputs": [
    {
     "name": "stdout",
     "output_type": "stream",
     "text": [
      "     PassengerId  Pclass  Name  Sex        Age  SibSp  Parch  Ticket      Fare\n",
      "0              1       3   108    1  22.000000      1      0     523    7.2500\n",
      "1              2       1   190    0  38.000000      1      0     596   71.2833\n",
      "2              3       3   353    0  26.000000      0      0     669    7.9250\n",
      "3              4       1   272    0  35.000000      1      0      49   53.1000\n",
      "4              5       3    15    1  35.000000      0      0     472    8.0500\n",
      "5              6       3   554    1  29.699118      0      0     275    8.4583\n",
      "6              7       1   515    1  54.000000      0      0      85   51.8625\n",
      "7              8       3   624    1   2.000000      3      1     395   21.0750\n",
      "8              9       3   412    0  27.000000      0      2     344   11.1333\n",
      "9             10       2   576    0  14.000000      1      0     132   30.0708\n",
      "10            11       3   727    0   4.000000      1      1     616   16.7000\n",
      "11            12       1    95    0  58.000000      0      0      38   26.5500\n",
      "12            13       3   729    1  20.000000      0      0     535    8.0500\n",
      "13            14       3    28    1  39.000000      1      5     333   31.2750\n",
      "14            15       3   840    0  14.000000      0      0     413    7.8542\n",
      "15            16       2   359    0  55.000000      0      0     153   16.0000\n",
      "16            17       3   682    1   2.000000      4      1     480   29.1250\n",
      "17            18       2   867    1  29.699118      0      0     151   13.0000\n",
      "18            19       3   839    0  31.000000      1      0     301   18.0000\n",
      "19            20       3   512    0  29.699118      0      0     184    7.2250\n",
      "20            21       2   273    1  35.000000      0      0     139   26.0000\n",
      "21            22       2    80    1  34.000000      0      0     152   13.0000\n",
      "22            23       3   523    0  15.000000      0      0     278    8.0292\n",
      "23            24       1   765    1  28.000000      0      0      42   35.5000\n",
      "24            25       3   626    0   8.000000      3      1     395   21.0750\n",
      "25            26       3    44    0  38.000000      1      5     329   31.3875\n",
      "26            27       3   240    1  29.699118      0      0     179    7.2250\n",
      "27            28       1   260    1  19.000000      3      2      95  263.0000\n",
      "28            29       3   605    0  29.699118      0      0     283    7.8792\n",
      "29            30       3   813    1  29.699118      0      0     362    7.8958\n",
      "..           ...     ...   ...  ...        ...    ...    ...     ...       ...\n",
      "861          862       2   283    1  21.000000      1      0     221   11.5000\n",
      "862          863       1   797    0  48.000000      0      0      88   25.9292\n",
      "863          864       3   718    0  29.699118      8      2     568   69.5500\n",
      "864          865       2   285    1  24.000000      0      0     120   13.0000\n",
      "865          866       2   122    0  42.000000      0      0     126   13.0000\n",
      "866          867       2   230    0  27.000000      1      0     632   13.8583\n",
      "867          868       1   696    1  31.000000      0      0     590   50.4958\n",
      "868          869       3   890    1  29.699118      0      0     309    9.5000\n",
      "869          870       3   407    1   4.000000      1      1     344   11.1333\n",
      "870          871       3    59    1  26.000000      0      0     387    7.8958\n",
      "871          872       1    79    0  47.000000      1      1      54   52.5542\n",
      "872          873       1   139    1  33.000000      0      0     502    5.0000\n",
      "873          874       3   836    1  47.000000      0      0     303    9.0000\n",
      "874          875       2     4    0  28.000000      1      0     575   24.0000\n",
      "875          876       3   571    0  15.000000      0      0     195    7.2250\n",
      "876          877       3   311    1  20.000000      0      0     504    9.8458\n",
      "877          878       3   657    1  19.000000      0      0     358    7.8958\n",
      "878          879       3   451    1  29.699118      0      0     363    7.8958\n",
      "879          880       1   668    0  56.000000      0      1      59   83.1583\n",
      "880          881       2   739    0  25.000000      0      1     115   26.0000\n",
      "881          882       3   510    1  33.000000      0      0     394    7.8958\n",
      "882          883       3   193    0  22.000000      0      0     508   10.5167\n",
      "883          884       2    61    1  28.000000      0      0     565   10.5000\n",
      "884          885       3   793    1  25.000000      0      0     650    7.0500\n",
      "885          886       3   684    0  39.000000      0      5     480   29.1250\n",
      "886          887       2   548    1  27.000000      0      0     101   13.0000\n",
      "887          888       1   303    0  19.000000      0      0      14   30.0000\n",
      "888          889       3   413    0  29.699118      1      2     675   23.4500\n",
      "889          890       1    81    1  26.000000      0      0       8   30.0000\n",
      "890          891       3   220    1  32.000000      0      0     466    7.7500\n",
      "\n",
      "[891 rows x 9 columns]\n"
     ]
    }
   ],
   "source": [
    "from sklearn.impute import SimpleImputer\n",
    "imp_mean = SimpleImputer(missing_values=np.nan, strategy='mean')\n",
    "\n",
    "#x=x.reshape(8910,1)\n",
    "#print(x['Age'])\n",
    "A=np.array(x['Age'])\n",
    "A=A.reshape(len(A),1)\n",
    "k=imp_mean.fit(A)\n",
    "L=imp_mean.transform(A)\n",
    "#print(y)\n",
    "x.drop(['Age'],axis=1)\n",
    "x['Age']=L\n",
    "print(x)"
   ]
  },
  {
   "cell_type": "code",
   "execution_count": 71,
   "metadata": {},
   "outputs": [
    {
     "name": "stdout",
     "output_type": "stream",
     "text": [
      "(712, 1)\n",
      "(712, 9)\n",
      "     Survived\n",
      "368         1\n",
      "542         0\n",
      "49          0\n",
      "667         0\n",
      "297         0\n",
      "727         1\n",
      "399         1\n",
      "151         1\n",
      "783         0\n",
      "671         0\n",
      "546         1\n",
      "441         0\n",
      "215         1\n",
      "603         0\n",
      "655         0\n",
      "205         0\n",
      "308         0\n",
      "445         1\n",
      "649         1\n",
      "534         0\n",
      "166         1\n",
      "851         0\n",
      "502         0\n",
      "597         0\n",
      "442         0\n",
      "571         1\n",
      "357         0\n",
      "449         1\n",
      "845         0\n",
      "561         0\n",
      "..        ...\n",
      "409         0\n",
      "772         0\n",
      "537         1\n",
      "336         0\n",
      "344         0\n",
      "756         0\n",
      "757         0\n",
      "868         0\n",
      "621         1\n",
      "295         0\n",
      "814         0\n",
      "678         0\n",
      "519         0\n",
      "618         1\n",
      "699         0\n",
      "696         0\n",
      "841         0\n",
      "632         1\n",
      "76          0\n",
      "267         1\n",
      "23          1\n",
      "651         1\n",
      "389         1\n",
      "758         0\n",
      "56          1\n",
      "650         0\n",
      "744         1\n",
      "265         0\n",
      "337         1\n",
      "464         0\n",
      "\n",
      "[712 rows x 1 columns]\n"
     ]
    }
   ],
   "source": [
    "\n",
    "from sklearn.model_selection import train_test_split\n",
    "x_train,x_test,y_train,y_test = train_test_split(x,y,test_size=0.2,random_state=1 ,stratify=y)\n",
    "print(np.shape(y_train))\n",
    "print(np.shape(x_train))\n",
    "print(y_train)\n",
    "\n",
    "\n"
   ]
  },
  {
   "cell_type": "markdown",
   "metadata": {},
   "source": [
    "# using Logistic Regression"
   ]
  },
  {
   "cell_type": "code",
   "execution_count": 72,
   "metadata": {},
   "outputs": [
    {
     "name": "stderr",
     "output_type": "stream",
     "text": [
      "c:\\users\\shoukkiya ashraf\\miniconda3\\lib\\site-packages\\sklearn\\linear_model\\logistic.py:433: FutureWarning: Default solver will be changed to 'lbfgs' in 0.22. Specify a solver to silence this warning.\n",
      "  FutureWarning)\n",
      "c:\\users\\shoukkiya ashraf\\miniconda3\\lib\\site-packages\\sklearn\\utils\\validation.py:761: DataConversionWarning: A column-vector y was passed when a 1d array was expected. Please change the shape of y to (n_samples, ), for example using ravel().\n",
      "  y = column_or_1d(y, warn=True)\n"
     ]
    },
    {
     "data": {
      "text/plain": [
       "LogisticRegression(C=1.0, class_weight=None, dual=False, fit_intercept=True,\n",
       "          intercept_scaling=1, max_iter=100, multi_class='warn',\n",
       "          n_jobs=None, penalty='l2', random_state=None, solver='warn',\n",
       "          tol=0.0001, verbose=0, warm_start=False)"
      ]
     },
     "execution_count": 72,
     "metadata": {},
     "output_type": "execute_result"
    }
   ],
   "source": [
    "model=LogisticRegression()\n",
    "model.fit(x_train,y_train)"
   ]
  },
  {
   "cell_type": "code",
   "execution_count": 78,
   "metadata": {},
   "outputs": [
    {
     "name": "stdout",
     "output_type": "stream",
     "text": [
      "0.8044692737430168\n"
     ]
    }
   ],
   "source": [
    "y_predict = model.predict(x_test)\n",
    "print(model.score(x_test,y_test))"
   ]
  },
  {
   "cell_type": "code",
   "execution_count": 80,
   "metadata": {},
   "outputs": [
    {
     "name": "stdout",
     "output_type": "stream",
     "text": [
      "[0 0 0 0 0 0 0 0 0 0 1 1 0 0 1 0 0 1 1 0 0 0 1 0 0 0 1 1 0 0 0 0 1 1 0 1 0\n",
      " 0 0 0 0 1 0 0 1 1 1 0 0 1 0 0 0 0 0 0 1 1 0 1 0 0 1 0 1 0 1 1 1 0 1 1 0 1\n",
      " 1 0 0 0 0 0 0 0 0 1 0 0 0 0 0 0 0 0 0 1 1 0 0 0 1 1 0 0 0 0 1 1 0 0 0 0 0\n",
      " 1 0 0 1 1 1 1 1 1 0 1 1 0 0 0 0 1 1 0 0 0 1 1 1 0 0 0 0 1 0 0 0 1 0 0 0 0\n",
      " 0 0 0 1 1 0 0 1 0 0 1 0 0 0 0 0 0 0 0 1 1 1 0 1 1 0 1 0 1 0 0]\n"
     ]
    }
   ],
   "source": [
    "print(y_predict)"
   ]
  },
  {
   "cell_type": "markdown",
   "metadata": {},
   "source": [
    "# Using SVM"
   ]
  },
  {
   "cell_type": "code",
   "execution_count": 82,
   "metadata": {},
   "outputs": [
    {
     "name": "stderr",
     "output_type": "stream",
     "text": [
      "c:\\users\\shoukkiya ashraf\\miniconda3\\lib\\site-packages\\sklearn\\preprocessing\\data.py:645: DataConversionWarning: Data with input dtype int64, float64 were all converted to float64 by StandardScaler.\n",
      "  return self.partial_fit(X, y)\n",
      "c:\\users\\shoukkiya ashraf\\miniconda3\\lib\\site-packages\\ipykernel_launcher.py:4: DataConversionWarning: Data with input dtype int64, float64 were all converted to float64 by StandardScaler.\n",
      "  after removing the cwd from sys.path.\n",
      "c:\\users\\shoukkiya ashraf\\miniconda3\\lib\\site-packages\\sklearn\\preprocessing\\data.py:645: DataConversionWarning: Data with input dtype int64, float64 were all converted to float64 by StandardScaler.\n",
      "  return self.partial_fit(X, y)\n",
      "c:\\users\\shoukkiya ashraf\\miniconda3\\lib\\site-packages\\ipykernel_launcher.py:7: DataConversionWarning: Data with input dtype int64, float64 were all converted to float64 by StandardScaler.\n",
      "  import sys\n"
     ]
    }
   ],
   "source": [
    "from sklearn.preprocessing import StandardScaler\n",
    "norm=StandardScaler()\n",
    "norm.fit(x_train)\n",
    "x_train_std = norm.transform(x_train)\n",
    "#normalizing the values between -1  and 0\n",
    "norm.fit(x_test)\n",
    "x_test_std = norm.transform(x_test)"
   ]
  },
  {
   "cell_type": "code",
   "execution_count": 99,
   "metadata": {},
   "outputs": [
    {
     "name": "stderr",
     "output_type": "stream",
     "text": [
      "c:\\users\\shoukkiya ashraf\\miniconda3\\lib\\site-packages\\sklearn\\utils\\validation.py:761: DataConversionWarning: A column-vector y was passed when a 1d array was expected. Please change the shape of y to (n_samples, ), for example using ravel().\n",
      "  y = column_or_1d(y, warn=True)\n"
     ]
    },
    {
     "data": {
      "text/plain": [
       "LinearSVC(C=0.02, class_weight=None, dual=False, fit_intercept=True,\n",
       "     intercept_scaling=1, loss='squared_hinge', max_iter=1000,\n",
       "     multi_class='ovr', penalty='l1', random_state=None, tol=0.0001,\n",
       "     verbose=0)"
      ]
     },
     "execution_count": 99,
     "metadata": {},
     "output_type": "execute_result"
    }
   ],
   "source": [
    "from sklearn.svm import LinearSVC\n",
    "lsvc = LinearSVC(C=0.02 ,penalty='l1' , dual=False)\n",
    "lsvc.fit(x_train_std,y_train)"
   ]
  },
  {
   "cell_type": "code",
   "execution_count": 100,
   "metadata": {},
   "outputs": [
    {
     "name": "stdout",
     "output_type": "stream",
     "text": [
      "0.8044692737430168\n"
     ]
    }
   ],
   "source": [
    "y_predict_svc = lsvc.predict(x_test_std)\n",
    "from sklearn import metrics\n",
    "print(metrics.f1_score(y_test,y_predict_svc,average='micro'))"
   ]
  },
  {
   "cell_type": "code",
   "execution_count": 107,
   "metadata": {},
   "outputs": [
    {
     "name": "stdout",
     "output_type": "stream",
     "text": [
      "[0 0 0 0 0 0 0 0 0 0 1 1 0 0 1 0 0 1 1 0 0 0 1 0 0 0 1 1 0 0 0 0 1 1 0 1 0\n",
      " 0 0 0 0 1 0 0 1 1 1 0 0 1 0 0 0 0 0 0 1 1 0 1 0 0 1 0 1 0 1 1 1 0 1 1 0 1\n",
      " 1 0 0 0 0 0 0 0 0 1 0 0 0 0 0 0 0 0 0 1 1 0 0 0 1 1 0 0 0 0 1 1 0 0 0 0 0\n",
      " 1 0 0 1 1 1 1 1 1 0 1 1 0 0 0 0 1 1 0 0 0 1 1 1 0 0 0 0 1 0 0 0 1 0 0 0 0\n",
      " 0 0 0 1 1 0 0 1 0 0 1 0 0 0 0 0 0 0 0 1 1 1 0 1 1 0 1 0 1 0 0]\n",
      "[0 0 0 0 0 0 0 1 0 0 1 1 0 0 1 0 0 1 1 0 0 0 1 0 0 0 1 1 0 0 0 0 1 1 0 1 0\n",
      " 0 1 0 0 1 0 0 1 1 1 0 0 1 0 0 0 0 0 0 1 1 0 1 0 0 1 0 1 0 1 0 1 0 1 1 0 1\n",
      " 1 1 0 0 0 1 0 0 0 1 0 0 0 1 0 0 0 0 0 1 1 0 0 0 1 1 0 0 0 0 1 1 0 0 0 0 0\n",
      " 1 0 0 1 1 1 1 1 1 0 1 1 0 0 0 1 1 1 0 0 0 1 1 1 0 0 0 0 1 0 0 0 1 0 0 0 0\n",
      " 0 0 0 1 1 0 0 1 0 0 1 0 0 0 0 0 0 0 0 1 1 1 0 1 0 0 1 0 1 0 0]\n",
      "0.8044692737430168\n"
     ]
    }
   ],
   "source": [
    "print(y_predict)\n",
    "print(y_predict_svc)\n",
    "print(lsvc.score(x_test_std,y_test))"
   ]
  },
  {
   "cell_type": "markdown",
   "metadata": {},
   "source": [
    "# Using non-linear SVM"
   ]
  },
  {
   "cell_type": "code",
   "execution_count": 111,
   "metadata": {},
   "outputs": [
    {
     "name": "stderr",
     "output_type": "stream",
     "text": [
      "c:\\users\\shoukkiya ashraf\\miniconda3\\lib\\site-packages\\sklearn\\utils\\validation.py:761: DataConversionWarning: A column-vector y was passed when a 1d array was expected. Please change the shape of y to (n_samples, ), for example using ravel().\n",
      "  y = column_or_1d(y, warn=True)\n"
     ]
    },
    {
     "data": {
      "text/plain": [
       "SVC(C=10, cache_size=200, class_weight=None, coef0=0.0,\n",
       "  decision_function_shape='ovr', degree=3, gamma=0.1, kernel='rbf',\n",
       "  max_iter=-1, probability=False, random_state=1, shrinking=True,\n",
       "  tol=0.001, verbose=False)"
      ]
     },
     "execution_count": 111,
     "metadata": {},
     "output_type": "execute_result"
    }
   ],
   "source": [
    "from  sklearn.svm import SVC\n",
    "k_svc = SVC(kernel='rbf' , random_state=1 , gamma=.10 ,C=10)\n",
    "k_svc.fit(x_train_std,y_train)"
   ]
  },
  {
   "cell_type": "code",
   "execution_count": 112,
   "metadata": {},
   "outputs": [
    {
     "name": "stdout",
     "output_type": "stream",
     "text": [
      "0.8491620111731844\n"
     ]
    }
   ],
   "source": [
    "y_predict_ksvc = k_svc.predict(x_test_std)\n",
    "print(k_svc.score(x_test_std,y_test))"
   ]
  },
  {
   "cell_type": "code",
   "execution_count": 108,
   "metadata": {},
   "outputs": [
    {
     "name": "stdout",
     "output_type": "stream",
     "text": [
      "[0 0 0 0 0 0 0 1 0 0 1 0 0 0 1 0 0 1 0 0 0 0 1 0 0 0 1 1 0 0 0 0 0 1 0 1 0\n",
      " 0 1 0 0 1 0 0 1 1 1 0 0 1 0 0 0 0 0 0 0 1 0 1 0 0 1 0 1 0 1 1 1 0 1 1 0 0\n",
      " 1 0 0 0 0 0 0 0 0 1 0 0 0 0 0 0 0 0 0 1 1 0 0 0 1 1 0 0 0 1 1 0 0 0 0 0 0\n",
      " 1 0 0 0 1 0 0 1 1 0 1 1 0 0 0 1 1 1 0 0 0 1 1 1 0 0 0 0 0 0 0 1 1 0 1 0 0\n",
      " 0 0 0 1 1 0 0 1 1 0 1 0 1 0 0 0 0 0 0 1 1 1 0 1 0 0 0 0 1 0 0]\n"
     ]
    }
   ],
   "source": [
    "print(y_predict_ksvc)"
   ]
  },
  {
   "cell_type": "code",
   "execution_count": null,
   "metadata": {},
   "outputs": [],
   "source": []
  }
 ],
 "metadata": {
  "kernelspec": {
   "display_name": "Python 3",
   "language": "python",
   "name": "python3"
  },
  "language_info": {
   "codemirror_mode": {
    "name": "ipython",
    "version": 3
   },
   "file_extension": ".py",
   "mimetype": "text/x-python",
   "name": "python",
   "nbconvert_exporter": "python",
   "pygments_lexer": "ipython3",
   "version": "3.7.1"
  }
 },
 "nbformat": 4,
 "nbformat_minor": 2
}
