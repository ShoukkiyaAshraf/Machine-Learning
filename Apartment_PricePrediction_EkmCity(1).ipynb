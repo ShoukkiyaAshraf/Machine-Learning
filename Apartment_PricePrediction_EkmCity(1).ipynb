{
  "nbformat": 4,
  "nbformat_minor": 0,
  "metadata": {
    "colab": {
      "name": "Apartment-PricePrediction_EkmCity.ipynb",
      "version": "0.3.2",
      "provenance": [],
      "collapsed_sections": []
    },
    "kernelspec": {
      "name": "python3",
      "display_name": "Python 3"
    }
  },
  "cells": [
    {
      "metadata": {
        "id": "h1utHjvKHw5B",
        "colab_type": "code",
        "colab": {}
      },
      "cell_type": "code",
      "source": [
        "'''predicting the prices of apartments in ernamkulam city prepared by team Spiral Forge -28/03/2019'''\n",
        "#reference https://towardsdatascience.com/3-ways-to-load-csv-files-into-colab-7c14fcbdcb92 for data from drive\n",
        "import numpy as np\n",
        "import matplotlib.pyplot as plt\n",
        "from sklearn.linear_model import LinearRegression\n",
        "from sklearn.model_selection import train_test_split\n",
        "import pandas as pd\n",
        "    "
      ],
      "execution_count": 0,
      "outputs": []
    },
    {
      "metadata": {
        "id": "VGxnKm01LBr0",
        "colab_type": "code",
        "outputId": "5366a6e6-b011-4e00-f18f-1b7b5c0d3d27",
        "colab": {
          "base_uri": "https://localhost:8080/",
          "height": 990
        }
      },
      "cell_type": "code",
      "source": [
        "#for getting the input file train.csv\n",
        "!pip install -U -q PyDrive\n",
        "from pydrive.auth import GoogleAuth\n",
        "from pydrive.drive import GoogleDrive\n",
        "from google.colab import auth\n",
        "from oauth2client.client import GoogleCredentials\n",
        "auth.authenticate_user()\n",
        "gauth = GoogleAuth()\n",
        "gauth.credentials = GoogleCredentials.get_application_default()\n",
        "drive = GoogleDrive(gauth)\n",
        "link=\"https://drive.google.com/open?id=0B6GqE9JCBlm8V0Y2Y3lUNXdzNUZnNTVJVWRmbTgxOU1TR2M0\"\n",
        "fluff, id = link.split('=')\n",
        "\n",
        "#print (id)\n",
        "downloaded1 = drive.CreateFile({'id':id}) \n",
        "downloaded1.GetContentFile('train.csv')  \n",
        "data = pd.read_csv('train.csv')\n",
        "print(\"DATA FOR APARTMENT PRICING\")\n",
        "print(data.describe())\n",
        "print(data.shape)"
      ],
      "execution_count": 0,
      "outputs": [
        {
          "output_type": "stream",
          "text": [
            "DATA FOR APARTMENT PRICING\n",
            "                Id   MSSubClass  LotFrontage        LotArea  OverallQual  \\\n",
            "count  1460.000000  1460.000000  1201.000000    1460.000000  1460.000000   \n",
            "mean    730.500000    56.897260    70.049958   10516.828082     6.099315   \n",
            "std     421.610009    42.300571    24.284752    9981.264932     1.382997   \n",
            "min       1.000000    20.000000    21.000000    1300.000000     1.000000   \n",
            "25%     365.750000    20.000000    59.000000    7553.500000     5.000000   \n",
            "50%     730.500000    50.000000    69.000000    9478.500000     6.000000   \n",
            "75%    1095.250000    70.000000    80.000000   11601.500000     7.000000   \n",
            "max    1460.000000   190.000000   313.000000  215245.000000    10.000000   \n",
            "\n",
            "       OverallCond    YearBuilt  YearRemodAdd   MasVnrArea   BsmtFinSF1  \\\n",
            "count  1460.000000  1460.000000   1460.000000  1452.000000  1460.000000   \n",
            "mean      5.575342  1971.267808   1984.865753   103.685262   443.639726   \n",
            "std       1.112799    30.202904     20.645407   181.066207   456.098091   \n",
            "min       1.000000  1872.000000   1950.000000     0.000000     0.000000   \n",
            "25%       5.000000  1954.000000   1967.000000     0.000000     0.000000   \n",
            "50%       5.000000  1973.000000   1994.000000     0.000000   383.500000   \n",
            "75%       6.000000  2000.000000   2004.000000   166.000000   712.250000   \n",
            "max       9.000000  2010.000000   2010.000000  1600.000000  5644.000000   \n",
            "\n",
            "           ...         WoodDeckSF  OpenPorchSF  EnclosedPorch    3SsnPorch  \\\n",
            "count      ...        1460.000000  1460.000000    1460.000000  1460.000000   \n",
            "mean       ...          94.244521    46.660274      21.954110     3.409589   \n",
            "std        ...         125.338794    66.256028      61.119149    29.317331   \n",
            "min        ...           0.000000     0.000000       0.000000     0.000000   \n",
            "25%        ...           0.000000     0.000000       0.000000     0.000000   \n",
            "50%        ...           0.000000    25.000000       0.000000     0.000000   \n",
            "75%        ...         168.000000    68.000000       0.000000     0.000000   \n",
            "max        ...         857.000000   547.000000     552.000000   508.000000   \n",
            "\n",
            "       ScreenPorch     PoolArea       MiscVal       MoSold       YrSold  \\\n",
            "count  1460.000000  1460.000000   1460.000000  1460.000000  1460.000000   \n",
            "mean     15.060959     2.758904     43.489041     6.321918  2007.815753   \n",
            "std      55.757415    40.177307    496.123024     2.703626     1.328095   \n",
            "min       0.000000     0.000000      0.000000     1.000000  2006.000000   \n",
            "25%       0.000000     0.000000      0.000000     5.000000  2007.000000   \n",
            "50%       0.000000     0.000000      0.000000     6.000000  2008.000000   \n",
            "75%       0.000000     0.000000      0.000000     8.000000  2009.000000   \n",
            "max     480.000000   738.000000  15500.000000    12.000000  2010.000000   \n",
            "\n",
            "           SalePrice  \n",
            "count    1460.000000  \n",
            "mean   180921.195890  \n",
            "std     79442.502883  \n",
            "min     34900.000000  \n",
            "25%    129975.000000  \n",
            "50%    163000.000000  \n",
            "75%    214000.000000  \n",
            "max    755000.000000  \n",
            "\n",
            "[8 rows x 38 columns]\n",
            "(1460, 81)\n"
          ],
          "name": "stdout"
        }
      ]
    },
    {
      "metadata": {
        "id": "7AB861iewvGS",
        "colab_type": "code",
        "outputId": "297461fc-614c-4567-c5bd-5782cce62203",
        "colab": {
          "base_uri": "https://localhost:8080/",
          "height": 972
        }
      },
      "cell_type": "code",
      "source": [
        "#for getting the test data\n",
        "downloaded2 = drive.CreateFile({'id':id}) \n",
        "downloaded2.GetContentFile('test.csv')  \n",
        "test = pd.read_csv('test.csv')\n",
        "print(test.describe())\n",
        "print(test.shape)"
      ],
      "execution_count": 0,
      "outputs": [
        {
          "output_type": "stream",
          "text": [
            "                Id   MSSubClass  LotFrontage        LotArea  OverallQual  \\\n",
            "count  1460.000000  1460.000000  1201.000000    1460.000000  1460.000000   \n",
            "mean    730.500000    56.897260    70.049958   10516.828082     6.099315   \n",
            "std     421.610009    42.300571    24.284752    9981.264932     1.382997   \n",
            "min       1.000000    20.000000    21.000000    1300.000000     1.000000   \n",
            "25%     365.750000    20.000000    59.000000    7553.500000     5.000000   \n",
            "50%     730.500000    50.000000    69.000000    9478.500000     6.000000   \n",
            "75%    1095.250000    70.000000    80.000000   11601.500000     7.000000   \n",
            "max    1460.000000   190.000000   313.000000  215245.000000    10.000000   \n",
            "\n",
            "       OverallCond    YearBuilt  YearRemodAdd   MasVnrArea   BsmtFinSF1  \\\n",
            "count  1460.000000  1460.000000   1460.000000  1452.000000  1460.000000   \n",
            "mean      5.575342  1971.267808   1984.865753   103.685262   443.639726   \n",
            "std       1.112799    30.202904     20.645407   181.066207   456.098091   \n",
            "min       1.000000  1872.000000   1950.000000     0.000000     0.000000   \n",
            "25%       5.000000  1954.000000   1967.000000     0.000000     0.000000   \n",
            "50%       5.000000  1973.000000   1994.000000     0.000000   383.500000   \n",
            "75%       6.000000  2000.000000   2004.000000   166.000000   712.250000   \n",
            "max       9.000000  2010.000000   2010.000000  1600.000000  5644.000000   \n",
            "\n",
            "           ...         WoodDeckSF  OpenPorchSF  EnclosedPorch    3SsnPorch  \\\n",
            "count      ...        1460.000000  1460.000000    1460.000000  1460.000000   \n",
            "mean       ...          94.244521    46.660274      21.954110     3.409589   \n",
            "std        ...         125.338794    66.256028      61.119149    29.317331   \n",
            "min        ...           0.000000     0.000000       0.000000     0.000000   \n",
            "25%        ...           0.000000     0.000000       0.000000     0.000000   \n",
            "50%        ...           0.000000    25.000000       0.000000     0.000000   \n",
            "75%        ...         168.000000    68.000000       0.000000     0.000000   \n",
            "max        ...         857.000000   547.000000     552.000000   508.000000   \n",
            "\n",
            "       ScreenPorch     PoolArea       MiscVal       MoSold       YrSold  \\\n",
            "count  1460.000000  1460.000000   1460.000000  1460.000000  1460.000000   \n",
            "mean     15.060959     2.758904     43.489041     6.321918  2007.815753   \n",
            "std      55.757415    40.177307    496.123024     2.703626     1.328095   \n",
            "min       0.000000     0.000000      0.000000     1.000000  2006.000000   \n",
            "25%       0.000000     0.000000      0.000000     5.000000  2007.000000   \n",
            "50%       0.000000     0.000000      0.000000     6.000000  2008.000000   \n",
            "75%       0.000000     0.000000      0.000000     8.000000  2009.000000   \n",
            "max     480.000000   738.000000  15500.000000    12.000000  2010.000000   \n",
            "\n",
            "           SalePrice  \n",
            "count    1460.000000  \n",
            "mean   180921.195890  \n",
            "std     79442.502883  \n",
            "min     34900.000000  \n",
            "25%    129975.000000  \n",
            "50%    163000.000000  \n",
            "75%    214000.000000  \n",
            "max    755000.000000  \n",
            "\n",
            "[8 rows x 38 columns]\n",
            "(1460, 81)\n"
          ],
          "name": "stdout"
        }
      ]
    },
    {
      "metadata": {
        "id": "FyPZmgQOx0u0",
        "colab_type": "code",
        "colab": {}
      },
      "cell_type": "code",
      "source": [
        "model=LinearRegression()"
      ],
      "execution_count": 0,
      "outputs": []
    },
    {
      "metadata": {
        "id": "Lk-oLNT1ky8S",
        "colab_type": "code",
        "outputId": "88af85ea-319a-4594-f987-85c67aa139be",
        "colab": {
          "base_uri": "https://localhost:8080/",
          "height": 127
        }
      },
      "cell_type": "code",
      "source": [
        "#determinig the x and y values from each test and traing test\n",
        "df2 = data.set_index(\"Id\", drop = False)\n",
        "x_train=df2.loc[\"1\":,:\"YrSold\"]\n",
        "x_train=x_train.select_dtypes(include=['int64']) #avoiding error while fitting the data\n",
        "x_train=x_train.values #converting to array\n",
        "y_train=df2.loc[\"1\":,\"SalePrice\":]\n",
        "print(\" for trainig\")\n",
        "print(np.shape(x_train))\n",
        "print(np.shape(y_train))\n",
        "\n",
        "\n",
        "df3 = test.set_index(\"Id\", drop = False)\n",
        "x_test=df3.loc[\"1461\":,:\"YrSold\"]\n",
        "x_test=x_test.select_dtypes(include=['int64'])\n",
        "x_test=x_test.values\n",
        "y_test=df3.loc[\"1461\":,\"SalePrice\":]\n",
        "print(\" for testing\")\n",
        "print(np.shape(x_test))\n",
        "print(np.shape(y_test))\n",
        "\n",
        "#x_train,x_test,y_train,y_test=train_test_split(x,y,test_size=0.21,random_state=200)"
      ],
      "execution_count": 0,
      "outputs": [
        {
          "output_type": "stream",
          "text": [
            " for trainig\n",
            "(1460, 34)\n",
            "(1460, 1)\n",
            " for testing\n",
            "(1446, 34)\n",
            "(1446, 1)\n"
          ],
          "name": "stdout"
        }
      ]
    },
    {
      "metadata": {
        "id": "CQcwciXBEoyP",
        "colab_type": "code",
        "outputId": "0a021f90-76ee-477a-967c-3d9100dc599e",
        "colab": {
          "base_uri": "https://localhost:8080/",
          "height": 54
        }
      },
      "cell_type": "code",
      "source": [
        "\n",
        "model.fit(x_train,y_train) #training our model according to input features"
      ],
      "execution_count": 0,
      "outputs": [
        {
          "output_type": "execute_result",
          "data": {
            "text/plain": [
              "LinearRegression(copy_X=True, fit_intercept=True, n_jobs=None,\n",
              "         normalize=False)"
            ]
          },
          "metadata": {
            "tags": []
          },
          "execution_count": 406
        }
      ]
    },
    {
      "metadata": {
        "id": "V94MhPw2F7IP",
        "colab_type": "code",
        "outputId": "4aa6b0b4-7913-4038-cfb5-fbfd22f581db",
        "colab": {
          "base_uri": "https://localhost:8080/",
          "height": 164
        }
      },
      "cell_type": "code",
      "source": [
        "#predictig the values\n",
        "y_pred=model.predict(x_test)\n",
        "print(\"PREDICTED VALUES : \",y_pred)\n",
        "print(\"score = \",model.score(x_test,y_test))\n"
      ],
      "execution_count": 0,
      "outputs": [
        {
          "output_type": "stream",
          "text": [
            "PREDICTED VALUES :  [[162873.24677108]\n",
            " [151147.0835358 ]\n",
            " [169613.81962886]\n",
            " ...\n",
            " [230943.99660631]\n",
            " [132583.95976944]\n",
            " [158839.82634672]]\n",
            "score =  0.8093302184310045\n"
          ],
          "name": "stdout"
        }
      ]
    },
    {
      "metadata": {
        "id": "h6bOqcWzCc0w",
        "colab_type": "code",
        "outputId": "b74b1d17-aebe-4ad3-9616-05c127b3744a",
        "colab": {
          "base_uri": "https://localhost:8080/",
          "height": 1229
        }
      },
      "cell_type": "code",
      "source": [
        "result_df = pd.DataFrame(y_pred)\n",
        "print(type(result_df))\n",
        "print(result_df)\n",
        "\n",
        "result_df.to_csv(\"result.csv\")\n",
        "uploaded = drive.CreateFile({'title': 'Predicted_Price.csv'})\n",
        "uploaded.SetContentFile(\"result.csv\")\n",
        "uploaded.Upload()\n",
        "print('Uploaded file with ID {}'.format(uploaded.get('id')))"
      ],
      "execution_count": 0,
      "outputs": [
        {
          "output_type": "stream",
          "text": [
            "<class 'pandas.core.frame.DataFrame'>\n",
            "                  0\n",
            "0     162873.246771\n",
            "1     151147.083536\n",
            "2     169613.819629\n",
            "3      95844.127585\n",
            "4     158912.590679\n",
            "5     130211.348942\n",
            "6     289329.444030\n",
            "7     139821.150100\n",
            "8     253275.329058\n",
            "9     141122.626048\n",
            "10    149483.788700\n",
            "11    252074.755674\n",
            "12    121695.995841\n",
            "13    279187.523720\n",
            "14    198072.910988\n",
            "15     58335.606086\n",
            "16     71399.109311\n",
            "17    128805.993058\n",
            "18    215441.660228\n",
            "19    158568.468647\n",
            "20    270240.019457\n",
            "21    289263.534917\n",
            "22    146207.766845\n",
            "23    152358.538622\n",
            "24    129955.035884\n",
            "25     58129.367950\n",
            "26    166642.248030\n",
            "27    155666.835823\n",
            "28    145008.315887\n",
            "29    120976.503695\n",
            "...             ...\n",
            "1416  176719.207392\n",
            "1417  140245.178910\n",
            "1418   65414.539181\n",
            "1419  208097.103096\n",
            "1420  161892.678283\n",
            "1421  201133.765109\n",
            "1422   98746.829358\n",
            "1423  309639.219851\n",
            "1424  179188.556956\n",
            "1425  199012.772374\n",
            "1426  232511.935093\n",
            "1427  153687.990231\n",
            "1428  328875.112455\n",
            "1429  107487.793255\n",
            "1430  209174.522194\n",
            "1431  116658.909046\n",
            "1432  141699.042933\n",
            "1433  271246.735243\n",
            "1434  104349.837379\n",
            "1435   74219.128983\n",
            "1436  112237.866878\n",
            "1437  247712.426962\n",
            "1438  126631.497137\n",
            "1439  126628.837469\n",
            "1440  207956.585409\n",
            "1441  186125.589520\n",
            "1442  247482.089434\n",
            "1443  230943.996606\n",
            "1444  132583.959769\n",
            "1445  158839.826347\n",
            "\n",
            "[1446 rows x 1 columns]\n",
            "Uploaded file with ID 1AvWYNzobOYC84EMaVjLyKSLP1VnA364L\n"
          ],
          "name": "stdout"
        }
      ]
    },
    {
      "metadata": {
        "id": "irokYe9qGaEY",
        "colab_type": "code",
        "outputId": "e1a8ec4d-08b0-4a31-9e48-e678744e299d",
        "colab": {
          "base_uri": "https://localhost:8080/",
          "height": 90
        }
      },
      "cell_type": "code",
      "source": [
        "from sklearn import metrics\n",
        "print(\"\\tMean_absolute_error :\",metrics.mean_absolute_error(y_test, y_pred)) #MAE measures the average magnitude of the erro in a set of predictions, without considering their direction\n",
        "print(\"\\tMean_squared_error :\",metrics.mean_squared_error(y_test, y_pred))  #It’s the square root of the average of squared differences between prediction and actual observation\n",
        "print(\"\\tRoot mean_squared_error :\",np.sqrt(metrics.mean_squared_error(y_test, y_pred)))\n",
        "print(\"\\tR-squared measure :\",metrics.r2_score(y_test, y_pred)) # indicates how close the data are to the fitted regression line"
      ],
      "execution_count": 0,
      "outputs": [
        {
          "output_type": "stream",
          "text": [
            "\tMean_absolute_error : 21125.995101828557\n",
            "\tMean_squared_error : 1204402047.7027366\n",
            "\tRoot mean_squared_error : 34704.49607331501\n",
            "\tR-squared measure : 0.8093302184310045\n"
          ],
          "name": "stdout"
        }
      ]
    }
  ]
}